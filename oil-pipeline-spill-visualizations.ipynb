{
  "cells": [
    {
      "cell_type": "markdown",
      "metadata": {
        "_cell_guid": "c8b45942-f502-f17b-2319-3414e951d169"
      },
      "source": [
        "# Load the data, libraries, & a few plot settings"
      ]
    },
    {
      "cell_type": "code",
      "execution_count": null,
      "metadata": {
        "_cell_guid": "d23f3f0c-e3cf-05b7-e8fb-30b7056a0afd"
      },
      "outputs": [],
      "source": [
        "import numpy as np\n",
        "import pandas as pd\n",
        "import matplotlib.pyplot as plt\n",
        "import seaborn as sns\n",
        "import collections as col\n",
        "\n",
        "import plotly.plotly as py\n",
        "import plotly.graph_objs as go\n",
        "from plotly import tools\n",
        "from plotly.offline import iplot, init_notebook_mode\n",
        "init_notebook_mode()\n",
        "\n",
        "pd.set_option('max_columns', 50)\n",
        "%matplotlib inline\n",
        "\n",
        "plt.rcParams['axes.facecolor'] = 'white'\n",
        "plt.rcParams['axes.edgecolor'] = 'black'\n",
        "plt.rcParams['axes.linewidth'] = 1\n",
        "plt.rcParams['lines.linewidth'] = 3\n",
        "\n",
        "df = pd.read_csv(\"../input/database.csv\")\n",
        "\n",
        "# Scale costs to $1M for plot clarity\n",
        "df2 = df.copy()\n",
        "df2['All Costs'] = df2['All Costs']/1000000.0\n",
        "df2['Property Damage Costs'] = df2['Property Damage Costs']/1000000.0\n",
        "df2['Lost Commodity Costs'] = df2['Lost Commodity Costs']/1000000.0\n",
        "df2['Public/Private Property Damage Costs'] = df2['Public/Private Property Damage Costs']/1000000.0\n",
        "df2['Emergency Response Costs'] = df2['Emergency Response Costs']/1000000.0\n",
        "df2['Environmental Remediation Costs'] = df2['Environmental Remediation Costs']/1000000.0\n",
        "df2['Other Costs'] = df2['Other Costs']/1000000.0"
      ]
    },
    {
      "cell_type": "markdown",
      "metadata": {
        "_cell_guid": "cc68e6c8-2624-1411-d854-26904bba9b18"
      },
      "source": [
        "# Time Dependancy\n",
        "\n",
        "We'll focus on a few things here:\n",
        "\n",
        "* Course time-dependency (as a function of year)\n",
        "* Look into the details a bit, month-by-month\n",
        "* We are given the cost of each of the oil spills and a rough breakdown of where those costs came, so where is the majority of the cost?\n",
        "\n"
      ]
    },
    {
      "cell_type": "code",
      "execution_count": null,
      "metadata": {
        "_cell_guid": "a069563d-500f-909d-055f-338b3025ff94"
      },
      "outputs": [],
      "source": [
        "# Some calculations to plot distributions by year\n",
        "\n",
        "headers = ['Accident Year','All Costs','Property Damage Costs',\n",
        "           'Lost Commodity Costs','Public/Private Property Damage Costs',\n",
        "           'Emergency Response Costs','Environmental Remediation Costs', 'Other Costs']\n",
        "df_forPlots = df2[headers]\n",
        "df_forPlots = df_forPlots[df_forPlots['Accident Year'] != 2017]\n",
        "by_year = df_forPlots.groupby('Accident Year')\n",
        "\n",
        "xPt = by_year.sum()['All Costs'].index.values\n",
        "yAll_sum = by_year.sum()['All Costs'].values\n",
        "yPro_sum = by_year.sum()['Property Damage Costs'].values\n",
        "yCom_sum = by_year.sum()['Lost Commodity Costs'].values\n",
        "yPri_sum = by_year.sum()['Public/Private Property Damage Costs'].values\n",
        "yEme_sum = by_year.sum()['Emergency Response Costs'].values\n",
        "yEnv_sum = by_year.sum()['Environmental Remediation Costs'].values\n",
        "\n",
        "fracProp = by_year.mean()['Property Damage Costs'].values / by_year.mean()['All Costs'].values\n",
        "fracComm = by_year.mean()['Lost Commodity Costs'].values / by_year.mean()['All Costs'].values\n",
        "fracPriP = by_year.mean()['Public/Private Property Damage Costs'].values / by_year.mean()['All Costs'].values\n",
        "fracEmer = by_year.mean()['Emergency Response Costs'].values / by_year.mean()['All Costs'].values\n",
        "fracEnvi = by_year.mean()['Environmental Remediation Costs'].values / by_year.mean()['All Costs'].values"
      ]
    },
    {
      "cell_type": "code",
      "execution_count": null,
      "metadata": {
        "_cell_guid": "0424f47b-9afa-99f4-1a15-805283c1f695"
      },
      "outputs": [],
      "source": [
        "\n",
        "# Year-by-year plot\n",
        "\n",
        "f, a = plt.subplots(nrows=1, ncols=2, figsize=(13,5))\n",
        "\n",
        "a[0].plot(xPt, yAll_sum, label=\"All\", color='black')\n",
        "a[0].plot(xPt, yEme_sum,label=\"Emergency\", color='orange')\n",
        "a[0].plot(xPt, yEnv_sum,label=\"Environment\", color='yellow')\n",
        "a[0].plot(xPt, yPro_sum,label=\"Property\", color='darkblue')\n",
        "a[0].plot(xPt, yCom_sum,label=\"Commodity\", color='darkred')\n",
        "a[0].plot(xPt, yPri_sum,label=\"Public/Private Prop.\", color='darkgreen')\n",
        "a[0].fill_between(xPt, yAll_sum, 10E0, facecolor='black', alpha=0.1)\n",
        "a[0].fill_between(xPt, yPro_sum, 10E0, facecolor='darkblue', alpha=0.1)\n",
        "a[0].fill_between(xPt, yCom_sum, 10E0, facecolor='darkred', alpha=0.1)\n",
        "a[0].fill_between(xPt, yPri_sum, 10E0, facecolor='darkgreen', alpha=0.1)\n",
        "a[0].fill_between(xPt, yEme_sum, 10E0, facecolor='orange', alpha=0.1)\n",
        "a[0].fill_between(xPt, yEnv_sum, 10E0, facecolor='yellow', alpha=0.1)\n",
        "a[0].get_xaxis().get_major_formatter().set_useOffset(False)\n",
        "a[0].set_xlabel('Year', fontsize=16)\n",
        "a[0].set_ylabel('Sum Cost ($Million)', fontsize=16)\n",
        "a[0].legend()\n",
        "\n",
        "\n",
        "a[1].plot(xPt, fracEmer,label=\"Emergency\", color='orange')\n",
        "a[1].plot(xPt, fracEnvi,label=\"Environment\", color='yellow')\n",
        "a[1].plot(xPt, fracProp,label=\"Property\", color='darkblue')\n",
        "a[1].plot(xPt, fracComm,label=\"Commodity\", color='darkred')\n",
        "a[1].plot(xPt, fracPriP,label=\"Public/Private Prop.\", color='darkgreen')\n",
        "a[1].fill_between(xPt, fracProp, 0, facecolor='darkblue', alpha=0.1)\n",
        "a[1].fill_between(xPt, fracComm, 0, facecolor='darkred', alpha=0.1)\n",
        "a[1].fill_between(xPt, fracPriP, 0, facecolor='darkgreen', alpha=0.1)\n",
        "a[1].fill_between(xPt, fracEmer, 0, facecolor='orange', alpha=0.1)\n",
        "a[1].fill_between(xPt, fracEnvi, 0, facecolor='yellow', alpha=0.1)\n",
        "a[1].get_xaxis().get_major_formatter().set_useOffset(False)\n",
        "a[1].set_xlabel('Year', fontsize=16)\n",
        "a[1].set_ylabel('Fraction of the Total Cost', fontsize=16)\n",
        "a[1].set_ylim([0,1])\n",
        "tmp = a[1].legend()"
      ]
    },
    {
      "cell_type": "markdown",
      "metadata": {
        "_cell_guid": "d1fb9948-a734-62a8-6268-06256da8b894"
      },
      "source": [
        "The left plot shows the summed cost of all the pipeline spills year-by-year for the data given.  Summed cost is shown as the total ('All') spill costs as well as the major breakdowns given in the data.  \n",
        "\n",
        "Some immediate takeaways:\n",
        "\n",
        "* 2010 was a stand-out year with about 5 times the total expenses incurred\n",
        "\n",
        "* The cost is largely dominated by environmental + emergency clean-up costs.  Property is the next highest factor hovering at around ~20% of the cost for any given year.  2014 is an outlier year where the total property costs incurred a highest singular fraction.\n",
        "\n",
        "\n",
        "## Let's look into the details..."
      ]
    },
    {
      "cell_type": "code",
      "execution_count": null,
      "metadata": {
        "_cell_guid": "3f162bd6-ea12-86ab-e54e-338dd455fa17"
      },
      "outputs": [],
      "source": [
        "\n",
        "df3 = df2.copy()\n",
        "df3['Month'] = df3['Accident Date/Time'].apply(lambda x: (str(x)[0:2]))\n",
        "df3['Month'] = df3['Month'].apply(lambda x: int(''.join(c for c in x if c.isdigit())))\n",
        "df3['Rel Month'] = (df3['Accident Year']-2010)*12. + df3['Month']\n",
        "\n",
        "headers = headers = ['Accident Year','All Costs','Property Damage Costs',\n",
        "           'Lost Commodity Costs','Public/Private Property Damage Costs',\n",
        "           'Emergency Response Costs','Environmental Remediation Costs', \n",
        "            'Other Costs', 'Rel Month']\n",
        "by_month = df3[headers].groupby(['Rel Month'])\n",
        "\n",
        "\n",
        "xPt = by_month.sum()['All Costs'].index.values\n",
        "yAll_sum = by_month.sum()['All Costs'].values\n",
        "yPro_sum = by_month.sum()['Property Damage Costs'].values\n",
        "yCom_sum = by_month.sum()['Lost Commodity Costs'].values\n",
        "yPri_sum = by_month.sum()['Public/Private Property Damage Costs'].values\n",
        "yEme_sum = by_month.sum()['Emergency Response Costs'].values\n",
        "yEnv_sum = by_month.sum()['Environmental Remediation Costs'].values\n",
        "\n",
        "fracProp = by_month.mean()['Property Damage Costs'].values / by_month.mean()['All Costs'].values\n",
        "fracComm = by_month.mean()['Lost Commodity Costs'].values / by_month.mean()['All Costs'].values\n",
        "fracPriP = by_month.mean()['Public/Private Property Damage Costs'].values / by_month.mean()['All Costs'].values\n",
        "fracEmer = by_month.mean()['Emergency Response Costs'].values / by_month.mean()['All Costs'].values\n",
        "fracEnvi = by_month.mean()['Environmental Remediation Costs'].values / by_month.mean()['All Costs'].values"
      ]
    },
    {
      "cell_type": "code",
      "execution_count": null,
      "metadata": {
        "_cell_guid": "238e8bf6-85f4-4343-8c1c-0072cfcea9eb"
      },
      "outputs": [],
      "source": [
        "fig = plt.figure(figsize=(11,8))\n",
        "ax = fig.add_subplot(111)\n",
        "\n",
        "plt.plot(xPt, yAll_sum, label=\"All\", color='black')\n",
        "plt.plot(xPt, yEme_sum,label=\"Emergency\", color='orange')\n",
        "plt.plot(xPt, yEnv_sum,label=\"Environment\", color='yellow')\n",
        "plt.plot(xPt, yPro_sum,label=\"Property\", color='darkblue')\n",
        "plt.plot(xPt, yCom_sum,label=\"Commodity\", color='darkred')\n",
        "plt.plot(xPt, yPri_sum,label=\"Public/Private Prop.\", color='darkgreen')\n",
        "plt.fill_between(xPt, yAll_sum, 10E0, facecolor='black', alpha=0.1)\n",
        "plt.fill_between(xPt, yPro_sum, 10E0, facecolor='darkblue', alpha=0.1)\n",
        "plt.fill_between(xPt, yCom_sum, 10E0, facecolor='darkred', alpha=0.1)\n",
        "plt.fill_between(xPt, yPri_sum, 10E0, facecolor='darkgreen', alpha=0.1)\n",
        "plt.fill_between(xPt, yEme_sum, 10E0, facecolor='orange', alpha=0.1)\n",
        "plt.fill_between(xPt, yEnv_sum, 10E0, facecolor='yellow', alpha=0.1)\n",
        "ax.get_xaxis().get_major_formatter().set_useOffset(False)\n",
        "plt.xlabel('Relative Month (starting from Jan. 2010)', fontsize=19)\n",
        "plt.ylabel('Sum Cost ($Millions)', fontsize=19)\n",
        "tmp = plt.legend()\n",
        "ax.text(9,600, \"$840 Million Cost\\nEnbridge Energy\\nMarshall, MI\",fontsize=11)\n",
        "ax.text(13,160, \"$135 Million Cost\\nExxonMobil\\nLaurel, MT\",fontsize=11)\n",
        "ax.text(35,160, \"$91 Million Cost\\nMobil\\nMayflower, AR\",fontsize=11)\n",
        "ax.text(58,190, \"$143 Million Cost\\nPlains Pipeline Co\\nGoleta, CA\",fontsize=11)\n",
        "ax.text(73,100, \"$66 Million Cost\\nColonial Pipeline\\nHelena, AL\",fontsize=11)"
      ]
    },
    {
      "cell_type": "markdown",
      "metadata": {
        "_cell_guid": "488f9d7a-beea-6b6c-68cb-8d091b6e00a2"
      },
      "source": [
        "Looking with a finer granularity (monthly) will give us an additional window into the data.  Here we see that not all oil-spills are created equally.  In fact, each of the yearly sums above were dominated by a single costly oil spill.  Here are the specifics of these top five costly spills..."
      ]
    },
    {
      "cell_type": "code",
      "execution_count": null,
      "metadata": {
        "_cell_guid": "ad277860-d5ce-d819-31c6-7d774f20a1a8"
      },
      "outputs": [],
      "source": [
        "df_byCost = df.sort_values(by=['All Costs'], ascending=False)\n",
        "info = ['Accident Year','Operator Name','Accident City', 'Accident State', 'Cause Category'\n",
        "       ,'Cause Subcategory','All Costs']\n",
        "df_byCost[info].head()"
      ]
    },
    {
      "cell_type": "markdown",
      "metadata": {
        "_cell_guid": "d76a8b8b-b38f-de64-7435-980f0a26ee43"
      },
      "source": [
        "# Mapping the spills\n",
        "\n",
        "\n",
        "There are a couple of other important dimensions given in the data.  One of the big ones is that we are given the location of each of these spills.  So, let's map them and have a look where these barrels are spilling...\n",
        "\n",
        "* Frequency state-by-state\n",
        "* Individually, weighted by the size of the spill in barrels\n"
      ]
    },
    {
      "cell_type": "code",
      "execution_count": null,
      "metadata": {
        "_cell_guid": "342d5662-708c-81d4-5eab-29faff5949c7"
      },
      "outputs": [],
      "source": [
        "colors = [\"black\",\"black\",\"darkblue\",\"darkblue\",\"darkgreen\",\"darkgreen\",\"darkred\",\"darkred\",\"orange\"]\n",
        "limits = [(0,100),(100,200),(200,300),(300,500),(500,1000),(1000,2000),(2000,5000),(5000,10000),(10000,36000)]\n",
        "scale = 20\n",
        "spills = []\n",
        "\n",
        "\n",
        "for i in range(len(limits)):\n",
        "    lim = limits[i]\n",
        "    df_sub = df[((df['Net Loss (Barrels)']>lim[0]) & (df['Net Loss (Barrels)']<lim[1]))]\n",
        "    spill = dict(\n",
        "        type = 'scattergeo',\n",
        "        locationmode = 'USA-states',\n",
        "        lon = df_sub['Accident Longitude'],\n",
        "        lat = df_sub['Accident Latitude'],\n",
        "        opacity=0.7,\n",
        "        marker = dict(\n",
        "            size = df_sub['Net Loss (Barrels)']/scale,\n",
        "            color = colors[i],\n",
        "            line = dict(width=0.5, color='rgb(40,40,40)'),\n",
        "            sizemode = 'area'           \n",
        "        ),\n",
        "        name = '{0} - {1}'.format(lim[0],lim[1]) )\n",
        "    spills.append(spill)\n",
        "\n",
        "layout = dict(\n",
        "        title = 'Net Barrel Loss of Individual Oil Spills: Jan/2010 - Jan/2017<br>(Click legend to toggle traces)',\n",
        "        showlegend = True,\n",
        "        geo = dict(\n",
        "            scope='usa',\n",
        "            projection=dict( type='albers usa' ),\n",
        "            showland = True,\n",
        "            landcolor = 'silver',\n",
        "            subunitwidth=1,\n",
        "            countrywidth=1,\n",
        "            subunitcolor=\"rgb(255, 255, 255)\",\n",
        "            countrycolor=\"rgb(255, 255, 255)\",\n",
        "            showlakes = True,\n",
        "            lakecolor = 'rgb(255, 255, 255)'\n",
        "        ),\n",
        "    )\n",
        "\n",
        "fig = dict( data= spills, layout= layout )\n",
        "iplot(fig)"
      ]
    },
    {
      "cell_type": "markdown",
      "metadata": {
        "_cell_guid": "ef449994-a79b-60f6-1040-96d81a13982a"
      },
      "source": [
        "This is interesting for several reasons.  \n",
        "\n",
        "* You can see the individual pipelines snake across the country, particularly if you toggle the map to only show the 0-100 data.\n",
        "\n",
        "* There are relatively sizable spills all over the country.  I am an avid news junkie, I find it kind of surprising that I haven't heard of many of these spills.  Spills are ubiquitious!\n",
        "\n",
        "* The costliest spills we saw earlier don't seem to be the largest spills (by net barrel).  There must be some other factor at play that causes big cleanup costs.\n",
        "    - The states with the 5 highest costing spills: Michigan, California, Montana, Arkansas, Alabama"
      ]
    },
    {
      "cell_type": "markdown",
      "metadata": {
        "_cell_guid": "e88d8426-640a-8193-5536-a02d993b39a8"
      },
      "source": [
        "# Which operators/causes are responsible for the most spills?"
      ]
    },
    {
      "cell_type": "code",
      "execution_count": null,
      "metadata": {
        "_cell_guid": "4a2d75d3-0f07-0b26-bbad-45c021336160"
      },
      "outputs": [],
      "source": [
        "#### MOST COMMON OPERATORS\n",
        "CCC = col.Counter(df['Operator ID'].values)\n",
        "ids = [x[0] for x in CCC.most_common(20)]\n",
        "\n",
        "hXvalue = []\n",
        "hValues = []\n",
        "hLabels = []\n",
        "# Need to link the operator Id to the operator name, this isn't a 1-to-1 relationship\n",
        "for j, i  in enumerate(ids):\n",
        "    #print df['Operator Name'].loc[df['Operator ID'] == i].unique(), CCC[i]\n",
        "    hXvalue.append(j+1)\n",
        "    hValues.append(CCC[i])\n",
        "    hLabels.append(\" or \".join(df['Operator Name'].loc[df['Operator ID'] == i].unique()))\n",
        "\n",
        "    \n",
        "#### MOST COMMON SPILL CAUSES\n",
        "DDD = col.Counter(df['Cause Category'].values)\n",
        "ids2 = [x[0] for x in DDD.most_common(20)]\n",
        "\n",
        "hXvalue2 = []\n",
        "hValues2 = []\n",
        "hLabels2 = []\n",
        "for j, i  in enumerate(ids2):\n",
        "    hXvalue2.append(j+1)\n",
        "    hValues2.append(DDD[i])\n",
        "    hLabels2.append(i)    "
      ]
    },
    {
      "cell_type": "code",
      "execution_count": null,
      "metadata": {
        "_cell_guid": "457a7b28-c7e5-22a9-d17b-631cc7b62531"
      },
      "outputs": [],
      "source": [
        "\n",
        "fig = plt.figure(figsize=(7, 7))\n",
        "plt.barh(hXvalue[::-1], hValues, align='center', color='forestgreen')\n",
        "plt.ylim([0,len(hValues)+1])\n",
        "plt.title('Top 20 Most Frequent \\'Spillers\\' (Operator)', fontsize=20, y=1.04)\n",
        "y = plt.yticks(hXvalue[::-1], hLabels, fontsize=10)\n",
        "x = plt.xlabel('Number of Spills', fontsize=16)\n",
        "x2 = plt.xticks(fontsize=10)"
      ]
    },
    {
      "cell_type": "code",
      "execution_count": null,
      "metadata": {
        "_cell_guid": "02625d51-970a-5fe7-d61f-d0fd131589a9"
      },
      "outputs": [],
      "source": [
        "\n",
        "fig = plt.figure(figsize=(7, 8))\n",
        "plt.barh(hXvalue2[::-1], hValues2, align='center', color='peru')\n",
        "plt.ylim([0,len(hValues2)+1])\n",
        "plt.title('Top 20 Most Frequent Spill Causes', fontsize=20, y=1.04)\n",
        "y = plt.yticks(hXvalue2[::-1], hLabels2, fontsize=15)\n",
        "x = plt.xlabel('Number of Spills', fontsize=16)\n",
        "x2 = plt.xticks(fontsize=10)"
      ]
    },
    {
      "cell_type": "markdown",
      "metadata": {
        "_cell_guid": "39e2f12a-99e7-d549-229e-fe8c0050eb7c"
      },
      "source": [
        "I think that the conclusions from these statistics is clear.  Namely, that the vast majority of the spills are the fault of the operator.  I put material/weld/equipment failure, incorrect operation, and excavation damage clerly in the foot of the operator.  Corrosion is largely their fault as well, but not as directly (or acutely).  Clearly, many of these companies should be putting more time & effort into pipeline maintenance."
      ]
    },
    {
      "cell_type": "markdown",
      "metadata": {
        "_cell_guid": "177afc64-b7df-eef4-8b21-93ac0f5a49b3"
      },
      "source": [
        "# Correlation between cost and spill size, other factors..."
      ]
    },
    {
      "cell_type": "markdown",
      "metadata": {
        "_cell_guid": "86522af7-7667-af4f-c610-528096d58bd1"
      },
      "source": [
        "My naive guess would be that the bigger the spill size (in barrels) would lead to a most costly clean-up and damages.  However, we saw above that the most costly spills in the data aren't in fact the largest.  So there are other factors that come in to play.\n",
        "\n",
        "This section is an exploration of this relationship and is definitely a work in progress.  "
      ]
    },
    {
      "cell_type": "code",
      "execution_count": null,
      "metadata": {
        "_cell_guid": "a64d27fb-018d-c5be-e2f5-94886af96398"
      },
      "outputs": [],
      "source": [
        "f, a = plt.subplots(nrows=3, ncols=1, figsize=(8,12), sharex=True)\n",
        "f.subplots_adjust(hspace=0.)\n",
        "\n",
        "a[0].scatter(df['Net Loss (Barrels)'].values,\n",
        "              df['All Costs'].values, \n",
        "              label=\"All\", color='darkred')\n",
        "a[0].set_yscale('log')\n",
        "a[0].set_ylim(0.1,4e9)\n",
        "a[0].set_xscale('log')\n",
        "a[0].set_xlim(0.001,100000)\n",
        "a[0].set_ylabel('Cost', fontsize=15)\n",
        "a[1].scatter(df['Net Loss (Barrels)'].values,\n",
        "              df['Environmental Remediation Costs'].values, \n",
        "              label=\"All\", color='darkblue')\n",
        "a[1].set_yscale('log')\n",
        "a[1].set_ylim(0.1,4e9)\n",
        "a[1].set_xscale('log')\n",
        "a[1].set_xlim(0.001,100000)\n",
        "a[1].set_ylabel('Cost', fontsize=15)\n",
        "a[2].scatter(df['Net Loss (Barrels)'].values,\n",
        "              df['Emergency Response Costs'].values, \n",
        "              label=\"All\", color='darkgreen')\n",
        "a[2].set_yscale('log')\n",
        "a[2].set_ylim(0.1,4e9)\n",
        "a[2].set_xscale('log')\n",
        "a[2].set_xlim(0.001,100000)\n",
        "a[2].set_ylabel('Cost', fontsize=15)\n",
        "a[2].set_xlabel('Net Loss (Barrels)', fontsize=13)\n",
        "a[0].text(0.005, 1e8, \"All Costs\", fontsize=18, color='darkred')\n",
        "a[1].text(0.005, 1e8, \"Environmental Costs\", fontsize=18, color='darkblue')\n",
        "a[2].text(0.005, 1e8, \"Emergency Costs\", fontsize=18, color='darkgreen')"
      ]
    },
    {
      "cell_type": "markdown",
      "metadata": {
        "_cell_guid": "97178b5e-216f-855d-6ccd-daf1b3e5078b"
      },
      "source": [
        "The cost is certainly positively correlated with the net loss (less so the Emergency Costs).  I hesitate to fit these distributions because there is so much spread and because it definitely seems like there are several sub-populations in the data (for example, in the 'All Costs' plot in the top, there are outliers at low cost and at low loss.)"
      ]
    },
    {
      "cell_type": "markdown",
      "metadata": {
        "_cell_guid": "d7598a3e-9ddd-afa7-37fe-bb502ac81a51"
      },
      "source": [
        "This section is a work in progress...  more soon!"
      ]
    },
    {
      "cell_type": "code",
      "execution_count": null,
      "metadata": {
        "_cell_guid": "e38946c4-50c4-8767-a939-f0c31b15bc91"
      },
      "outputs": [],
      "source": [
        ""
      ]
    }
  ],
  "metadata": {
    "_change_revision": 0,
    "_is_fork": false,
    "kernelspec": {
      "display_name": "Python 3",
      "language": "python",
      "name": "python3"
    },
    "language_info": {
      "codemirror_mode": {
        "name": "ipython",
        "version": 3
      },
      "file_extension": ".py",
      "mimetype": "text/x-python",
      "name": "python",
      "nbconvert_exporter": "python",
      "pygments_lexer": "ipython3",
      "version": "3.6.0"
    }
  },
  "nbformat": 4,
  "nbformat_minor": 0
}